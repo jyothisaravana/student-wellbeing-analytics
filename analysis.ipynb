{
 "cells": [
  {
   "cell_type": "code",
   "execution_count": 28,
   "id": "8f119a4d",
   "metadata": {},
   "outputs": [
    {
     "name": "stdout",
     "output_type": "stream",
     "text": [
      "         Date Student  Study Hours  Sleep (hrs)  Exercise (mins)  \\\n",
      "0  01/06/2024    Asha            4            6               30   \n",
      "1  01/06/2024    Ravi            3            7               20   \n",
      "2  01/06/2024    Tina            1            8               10   \n",
      "3  01/06/2024    Mike            2            6               20   \n",
      "4  01/06/2024    Sara            1            6               25   \n",
      "\n",
      "   Social Score  Screen Time (hrs)  Mood  Stress  Academic Score         Notes  \n",
      "0             5                  3     6       6              83    Low energy  \n",
      "1             2                  8     4       7              74  Felt anxious  \n",
      "2             5                  3    10       2              71           NaN  \n",
      "3             2                  6     8       2              77           NaN  \n",
      "4             4                  7     8       3              76    Good focus  \n"
     ]
    }
   ],
   "source": [
    "import pandas as pd\n",
    "\n",
    "df = pd.read_excel('data/dataset.xlsx')\n",
    "print(df.head())"
   ]
  },
  {
   "cell_type": "code",
   "execution_count": 29,
   "id": "207b7026",
   "metadata": {},
   "outputs": [
    {
     "name": "stdout",
     "output_type": "stream",
     "text": [
      "<class 'pandas.core.frame.DataFrame'>\n",
      "RangeIndex: 150 entries, 0 to 149\n",
      "Data columns (total 11 columns):\n",
      " #   Column             Non-Null Count  Dtype \n",
      "---  ------             --------------  ----- \n",
      " 0   Date               150 non-null    object\n",
      " 1   Student            150 non-null    object\n",
      " 2   Study Hours        150 non-null    int64 \n",
      " 3   Sleep (hrs)        150 non-null    int64 \n",
      " 4   Exercise (mins)    150 non-null    int64 \n",
      " 5   Social Score       150 non-null    int64 \n",
      " 6   Screen Time (hrs)  150 non-null    int64 \n",
      " 7   Mood               150 non-null    int64 \n",
      " 8   Stress             150 non-null    int64 \n",
      " 9   Academic Score     150 non-null    int64 \n",
      " 10  Notes              120 non-null    object\n",
      "dtypes: int64(8), object(3)\n",
      "memory usage: 13.0+ KB\n",
      "None\n"
     ]
    }
   ],
   "source": [
    "print(df.info())         # Data types, missing values, column names"
   ]
  },
  {
   "cell_type": "code",
   "execution_count": 30,
   "id": "d8004504",
   "metadata": {},
   "outputs": [
    {
     "name": "stdout",
     "output_type": "stream",
     "text": [
      "       Study Hours  Sleep (hrs)  Exercise (mins)  Social Score  \\\n",
      "count   150.000000   150.000000       150.000000    150.000000   \n",
      "mean      2.846667     6.993333        17.000000      3.133333   \n",
      "std       1.379313     1.426013         9.796589      1.445505   \n",
      "min       1.000000     5.000000         0.000000      1.000000   \n",
      "25%       2.000000     6.000000        10.000000      2.000000   \n",
      "50%       3.000000     7.000000        20.000000      3.000000   \n",
      "75%       4.000000     8.000000        25.000000      4.000000   \n",
      "max       5.000000     9.000000        30.000000      5.000000   \n",
      "\n",
      "       Screen Time (hrs)        Mood      Stress  Academic Score  \n",
      "count         150.000000  150.000000  150.000000      150.000000  \n",
      "mean            5.580000    7.000000    4.140000       76.833333  \n",
      "std             1.810743    2.158175    1.996742        6.115682  \n",
      "min             3.000000    2.000000    2.000000       64.000000  \n",
      "25%             4.000000    6.000000    2.000000       72.000000  \n",
      "50%             6.000000    7.000000    4.000000       76.000000  \n",
      "75%             7.000000    9.000000    5.000000       81.000000  \n",
      "max             8.000000   10.000000    9.000000       92.000000  \n"
     ]
    }
   ],
   "source": [
    "print(df.describe()) \n"
   ]
  },
  {
   "cell_type": "code",
   "execution_count": 31,
   "id": "039aae77",
   "metadata": {},
   "outputs": [
    {
     "name": "stdout",
     "output_type": "stream",
     "text": [
      "Date                  0\n",
      "Student               0\n",
      "Study Hours           0\n",
      "Sleep (hrs)           0\n",
      "Exercise (mins)       0\n",
      "Social Score          0\n",
      "Screen Time (hrs)     0\n",
      "Mood                  0\n",
      "Stress                0\n",
      "Academic Score        0\n",
      "Notes                30\n",
      "dtype: int64\n"
     ]
    }
   ],
   "source": [
    "print(df.isnull().sum())"
   ]
  },
  {
   "cell_type": "code",
   "execution_count": 32,
   "id": "1f8267e4",
   "metadata": {},
   "outputs": [
    {
     "name": "stdout",
     "output_type": "stream",
     "text": [
      "          Date Student  Study Hours  Sleep (hrs)  Exercise (mins)  \\\n",
      "0   01/06/2024    Asha            4            6               30   \n",
      "5   02/06/2024    Asha            4            5               15   \n",
      "10  03/06/2024    Asha            2            8               10   \n",
      "15  04/06/2024    Asha            2            7               10   \n",
      "20  05/06/2024    Asha            3            8               30   \n",
      "\n",
      "    Social Score  Screen Time (hrs)  Mood  Stress  Academic Score  \\\n",
      "0              5                  3     6       6              83   \n",
      "5              2                  4     6       5              72   \n",
      "10             5                  5     7       4              71   \n",
      "15             5                  6    10       2              70   \n",
      "20             2                  7     8       3              81   \n",
      "\n",
      "           Notes  \n",
      "0     Low energy  \n",
      "5     Good focus  \n",
      "10    Good focus  \n",
      "15  Felt anxious  \n",
      "20           NaN  \n"
     ]
    }
   ],
   "source": [
    "#Lets explore asha's record\n",
    "asha_df = df[df['Student'] == 'Asha']\n",
    "print(asha_df.head())\n",
    "\n",
    "# Days with high stress\n",
    "high_stress_df = df[df['Stress'] >= 7]"
   ]
  },
  {
   "cell_type": "code",
   "execution_count": 33,
   "id": "3d5421d7",
   "metadata": {},
   "outputs": [
    {
     "name": "stdout",
     "output_type": "stream",
     "text": [
      "             Mood    Stress\n",
      "Student                    \n",
      "Asha     6.966667  4.166667\n",
      "Mike     6.766667  4.233333\n",
      "Ravi     7.133333  4.100000\n",
      "Sara     7.000000  4.066667\n",
      "Tina     7.133333  4.133333\n"
     ]
    }
   ],
   "source": [
    "grouped = df.groupby('Student').agg({'Mood': 'mean', 'Stress': 'mean'})\n",
    "print(grouped)\n"
   ]
  },
  {
   "cell_type": "code",
   "execution_count": 34,
   "id": "4280c999",
   "metadata": {},
   "outputs": [
    {
     "data": {
      "text/html": [
       "<div>\n",
       "<style scoped>\n",
       "    .dataframe tbody tr th:only-of-type {\n",
       "        vertical-align: middle;\n",
       "    }\n",
       "\n",
       "    .dataframe tbody tr th {\n",
       "        vertical-align: top;\n",
       "    }\n",
       "\n",
       "    .dataframe thead th {\n",
       "        text-align: right;\n",
       "    }\n",
       "</style>\n",
       "<table border=\"1\" class=\"dataframe\">\n",
       "  <thead>\n",
       "    <tr style=\"text-align: right;\">\n",
       "      <th></th>\n",
       "      <th>Study Hours</th>\n",
       "      <th>Sleep (hrs)</th>\n",
       "      <th>Exercise (mins)</th>\n",
       "      <th>Social Score</th>\n",
       "      <th>Screen Time (hrs)</th>\n",
       "      <th>Mood</th>\n",
       "      <th>Stress</th>\n",
       "      <th>Academic Score</th>\n",
       "    </tr>\n",
       "  </thead>\n",
       "  <tbody>\n",
       "    <tr>\n",
       "      <th>Study Hours</th>\n",
       "      <td>1.000000</td>\n",
       "      <td>0.006301</td>\n",
       "      <td>0.057615</td>\n",
       "      <td>-0.026705</td>\n",
       "      <td>0.086903</td>\n",
       "      <td>-0.056364</td>\n",
       "      <td>0.102884</td>\n",
       "      <td>0.712213</td>\n",
       "    </tr>\n",
       "    <tr>\n",
       "      <th>Sleep (hrs)</th>\n",
       "      <td>0.006301</td>\n",
       "      <td>1.000000</td>\n",
       "      <td>0.176312</td>\n",
       "      <td>0.049273</td>\n",
       "      <td>-0.019286</td>\n",
       "      <td>0.030530</td>\n",
       "      <td>-0.004384</td>\n",
       "      <td>0.149937</td>\n",
       "    </tr>\n",
       "    <tr>\n",
       "      <th>Exercise (mins)</th>\n",
       "      <td>0.057615</td>\n",
       "      <td>0.176312</td>\n",
       "      <td>1.000000</td>\n",
       "      <td>0.021327</td>\n",
       "      <td>0.178198</td>\n",
       "      <td>-0.238075</td>\n",
       "      <td>0.230904</td>\n",
       "      <td>0.132183</td>\n",
       "    </tr>\n",
       "    <tr>\n",
       "      <th>Social Score</th>\n",
       "      <td>-0.026705</td>\n",
       "      <td>0.049273</td>\n",
       "      <td>0.021327</td>\n",
       "      <td>1.000000</td>\n",
       "      <td>0.011282</td>\n",
       "      <td>0.352818</td>\n",
       "      <td>-0.339023</td>\n",
       "      <td>0.000253</td>\n",
       "    </tr>\n",
       "    <tr>\n",
       "      <th>Screen Time (hrs)</th>\n",
       "      <td>0.086903</td>\n",
       "      <td>-0.019286</td>\n",
       "      <td>0.178198</td>\n",
       "      <td>0.011282</td>\n",
       "      <td>1.000000</td>\n",
       "      <td>-0.166587</td>\n",
       "      <td>0.170440</td>\n",
       "      <td>-0.013636</td>\n",
       "    </tr>\n",
       "    <tr>\n",
       "      <th>Mood</th>\n",
       "      <td>-0.056364</td>\n",
       "      <td>0.030530</td>\n",
       "      <td>-0.238075</td>\n",
       "      <td>0.352818</td>\n",
       "      <td>-0.166587</td>\n",
       "      <td>1.000000</td>\n",
       "      <td>-0.932893</td>\n",
       "      <td>0.041188</td>\n",
       "    </tr>\n",
       "    <tr>\n",
       "      <th>Stress</th>\n",
       "      <td>0.102884</td>\n",
       "      <td>-0.004384</td>\n",
       "      <td>0.230904</td>\n",
       "      <td>-0.339023</td>\n",
       "      <td>0.170440</td>\n",
       "      <td>-0.932893</td>\n",
       "      <td>1.000000</td>\n",
       "      <td>0.011267</td>\n",
       "    </tr>\n",
       "    <tr>\n",
       "      <th>Academic Score</th>\n",
       "      <td>0.712213</td>\n",
       "      <td>0.149937</td>\n",
       "      <td>0.132183</td>\n",
       "      <td>0.000253</td>\n",
       "      <td>-0.013636</td>\n",
       "      <td>0.041188</td>\n",
       "      <td>0.011267</td>\n",
       "      <td>1.000000</td>\n",
       "    </tr>\n",
       "  </tbody>\n",
       "</table>\n",
       "</div>"
      ],
      "text/plain": [
       "                   Study Hours  Sleep (hrs)  Exercise (mins)  Social Score  \\\n",
       "Study Hours           1.000000     0.006301         0.057615     -0.026705   \n",
       "Sleep (hrs)           0.006301     1.000000         0.176312      0.049273   \n",
       "Exercise (mins)       0.057615     0.176312         1.000000      0.021327   \n",
       "Social Score         -0.026705     0.049273         0.021327      1.000000   \n",
       "Screen Time (hrs)     0.086903    -0.019286         0.178198      0.011282   \n",
       "Mood                 -0.056364     0.030530        -0.238075      0.352818   \n",
       "Stress                0.102884    -0.004384         0.230904     -0.339023   \n",
       "Academic Score        0.712213     0.149937         0.132183      0.000253   \n",
       "\n",
       "                   Screen Time (hrs)      Mood    Stress  Academic Score  \n",
       "Study Hours                 0.086903 -0.056364  0.102884        0.712213  \n",
       "Sleep (hrs)                -0.019286  0.030530 -0.004384        0.149937  \n",
       "Exercise (mins)             0.178198 -0.238075  0.230904        0.132183  \n",
       "Social Score                0.011282  0.352818 -0.339023        0.000253  \n",
       "Screen Time (hrs)           1.000000 -0.166587  0.170440       -0.013636  \n",
       "Mood                       -0.166587  1.000000 -0.932893        0.041188  \n",
       "Stress                      0.170440 -0.932893  1.000000        0.011267  \n",
       "Academic Score             -0.013636  0.041188  0.011267        1.000000  "
      ]
     },
     "execution_count": 34,
     "metadata": {},
     "output_type": "execute_result"
    }
   ],
   "source": [
    "df.select_dtypes(include='number').corr()"
   ]
  },
  {
   "cell_type": "code",
   "execution_count": 35,
   "id": "f2191651",
   "metadata": {},
   "outputs": [
    {
     "data": {
      "image/png": "[encoded data removed]",
      "text/plain": [
       "<Figure size 432x288 with 1 Axes>"
      ]
     },
     "metadata": {
      "needs_background": "light"
     },
     "output_type": "display_data"
    }
   ],
   "source": [
    "import matplotlib.pyplot as plt\n",
    "import seaborn as sns\n",
    "\n",
    "sns.scatterplot(data=df, x='Sleep (hrs)', y='Mood', hue='Student')\n",
    "plt.title('Mood vs Sleep by Student')\n",
    "plt.show()"
   ]
  },
  {
   "cell_type": "code",
   "execution_count": 37,
   "id": "9d52603d",
   "metadata": {},
   "outputs": [
    {
     "name": "stdout",
     "output_type": "stream",
     "text": [
      "Results for predicting Mood:\n",
      "R2 Score: 0.868\n",
      "RMSE: 0.824\n",
      "\n",
      "Feature importances (effect on prediction):\n",
      "Sleep (hrs)          0.058492\n",
      "Social Score         0.055681\n",
      "Study Hours          0.050077\n",
      "Screen Time (hrs)    0.015102\n",
      "Exercise (mins)     -0.007887\n",
      "Stress              -1.004148\n",
      "dtype: float64\n",
      "----------------------------------------\n",
      "Results for predicting Academic Score:\n",
      "R2 Score: 0.639\n",
      "RMSE: 4.202\n",
      "\n",
      "Feature importances (effect on prediction):\n",
      "Study Hours          3.024389\n",
      "Sleep (hrs)          0.595487\n",
      "Exercise (mins)      0.052765\n",
      "Social Score        -0.096717\n",
      "Stress              -0.114289\n",
      "Screen Time (hrs)   -0.316670\n",
      "dtype: float64\n",
      "----------------------------------------\n"
     ]
    }
   ],
   "source": [
    "from sklearn.model_selection import train_test_split\n",
    "from sklearn.linear_model import LinearRegression\n",
    "from sklearn.metrics import mean_squared_error, r2_score\n",
    "import numpy as np\n",
    "import pandas as pd\n",
    "\n",
    "def regression_analysis(df, features, target):\n",
    "    \"\"\"\n",
    "    Fits a linear regression model and prints evaluation metrics and feature importances.\n",
    "    \n",
    "    Args:\n",
    "        df: DataFrame with your data\n",
    "        features: list of column names to use as predictors\n",
    "        target: string, the column to predict\n",
    "    \"\"\"\n",
    "    X = df[features]\n",
    "    y = df[target]\n",
    "    \n",
    "    # Handle missing values\n",
    "    X = X.fillna(X.mean())\n",
    "    y = y.fillna(y.mean())\n",
    "    \n",
    "    # Train/test split\n",
    "    X_train, X_test, y_train, y_test = train_test_split(X, y, \n",
    "                                                        test_size=0.2, \n",
    "                                                        random_state=42)\n",
    "    # Fit model\n",
    "    model = LinearRegression()\n",
    "    model.fit(X_train, y_train)\n",
    "    \n",
    "    # Predict\n",
    "    y_pred = model.predict(X_test)\n",
    "    \n",
    "    # Evaluate\n",
    "    r2 = r2_score(y_test, y_pred)\n",
    "    rmse = np.sqrt(mean_squared_error(y_test, y_pred))\n",
    "    \n",
    "    # Feature importance (coefficients)\n",
    "    importance = pd.Series(model.coef_, index=features)\n",
    "    \n",
    "    # Print results\n",
    "    print(f\"Results for predicting {target}:\")\n",
    "    print(f\"R2 Score: {r2:.3f}\")\n",
    "    print(f\"RMSE: {rmse:.3f}\")\n",
    "    print(\"\\nFeature importances (effect on prediction):\")\n",
    "    print(importance.sort_values(ascending=False))\n",
    "    print(\"-\" * 40)\n",
    "    \n",
    "    return model, importance, y_test, y_pred\n",
    "\n",
    "# Example usage for Mood:\n",
    "features_reg = ['Sleep (hrs)', 'Study Hours', 'Stress', 'Exercise (mins)', 'Screen Time (hrs)', 'Social Score']\n",
    "features_clf = ['Sleep (hrs)', 'Study Hours', 'Exercise (mins)', 'Screen Time (hrs)', 'Social Score', 'Mood']\n",
    "\n",
    "\n",
    "mood_model, importance, y_test, y_pred = regression_analysis(df, features_reg, 'Mood')\n",
    "\n",
    "# Example usage for Academic Score:\n",
    "academic_model, importance, y_test, y_pred = regression_analysis(df, features_reg, 'Academic Score')\n"
   ]
  },
  {
   "cell_type": "code",
   "execution_count": 38,
   "id": "b8e78973",
   "metadata": {},
   "outputs": [],
   "source": [
    "import matplotlib.pyplot as plt\n",
    "\n",
    "def plot_predictions(y_test, y_pred, title=\"Actual vs Predicted\"):\n",
    "    plt.figure(figsize=(6,6))\n",
    "    plt.scatter(y_test, y_pred, alpha=0.7)\n",
    "    plt.plot([y_test.min(), y_test.max()], [y_test.min(), y_test.max()], 'r--')  # 45-degree line\n",
    "    plt.xlabel(\"Actual values\")\n",
    "    plt.ylabel(\"Predicted values\")\n",
    "    plt.title(title)\n",
    "    plt.show()\n"
   ]
  },
  {
   "cell_type": "code",
   "execution_count": 15,
   "id": "171fdd93",
   "metadata": {},
   "outputs": [
    {
     "data": {
      "image/png": "[encoded data removed]",
      "text/plain": [
       "<Figure size 432x432 with 1 Axes>"
      ]
     },
     "metadata": {
      "needs_background": "light"
     },
     "output_type": "display_data"
    }
   ],
   "source": [
    "# After y_pred = model.predict(X_test)\n",
    "plot_predictions(y_test, y_pred, title=\"Actual vs Predicted Mood\")\n"
   ]
  },
  {
   "cell_type": "code",
   "execution_count": 39,
   "id": "089c4041",
   "metadata": {},
   "outputs": [
    {
     "name": "stdout",
     "output_type": "stream",
     "text": [
      "Accuracy: 0.9333333333333333\n",
      "Confusion Matrix:\n",
      " [[24  0]\n",
      " [ 2  4]]\n",
      "              precision    recall  f1-score   support\n",
      "\n",
      "           0       0.92      1.00      0.96        24\n",
      "           1       1.00      0.67      0.80         6\n",
      "\n",
      "    accuracy                           0.93        30\n",
      "   macro avg       0.96      0.83      0.88        30\n",
      "weighted avg       0.94      0.93      0.93        30\n",
      "\n"
     ]
    }
   ],
   "source": [
    "from sklearn.linear_model import LogisticRegression\n",
    "from sklearn.metrics import accuracy_score, classification_report, confusion_matrix\n",
    "\n",
    "# Add a column: High Stress Day (1 if Stress >= 7, else 0)\n",
    "df['HighStress'] = (df['Stress'] >= 7).astype(int)\n",
    "X = df[features_clf]\n",
    "y = df['HighStress']\n",
    "\n",
    "# Train/test split\n",
    "X_train, X_test, y_train, y_test = train_test_split(X, y, test_size=0.2, random_state=42)\n",
    "\n",
    "# Fit classifier\n",
    "stress_model = LogisticRegression()\n",
    "stress_model.fit(X_train, y_train)\n",
    "y_pred = stress_model.predict(X_test)\n",
    "\n",
    "# Evaluate\n",
    "print(\"Accuracy:\", accuracy_score(y_test, y_pred))\n",
    "print(\"Confusion Matrix:\\n\", confusion_matrix(y_test, y_pred))\n",
    "print(classification_report(y_test, y_pred))\n"
   ]
  },
  {
   "cell_type": "code",
   "execution_count": 40,
   "id": "2cd94da3",
   "metadata": {},
   "outputs": [
    {
     "name": "stdout",
     "output_type": "stream",
     "text": [
      "Feature importance (positive: increases high stress risk):\n",
      "Study Hours          0.704498\n",
      "Exercise (mins)      0.005058\n",
      "Screen Time (hrs)   -0.101397\n",
      "Social Score        -0.185977\n",
      "Sleep (hrs)         -0.215006\n",
      "Mood                -2.318610\n",
      "dtype: float64\n"
     ]
    }
   ],
   "source": [
    "importance = pd.Series(stress_model.coef_[0], index=features_clf)\n",
    "print(\"Feature importance (positive: increases high stress risk):\")\n",
    "print(importance.sort_values(ascending=False))\n"
   ]
  },
  {
   "cell_type": "code",
   "execution_count": 41,
   "id": "d7ea1826",
   "metadata": {},
   "outputs": [],
   "source": [
    "import os\n",
    "os.makedirs('models', exist_ok=True)"
   ]
  },
  {
   "cell_type": "code",
   "execution_count": 42,
   "id": "d18215fc",
   "metadata": {},
   "outputs": [],
   "source": [
    "import pickle\n",
    "\n",
    "with open('models/mood_regressor.pkl', 'wb') as f:\n",
    "    pickle.dump(mood_model, f)\n",
    "\n",
    "with open('models/academic_regressor.pkl', 'wb') as f:\n",
    "    pickle.dump(academic_model, f)\n",
    "\n",
    "with open('models/stress_classifier.pkl', 'wb') as f:\n",
    "    pickle.dump(stress_model, f)"
   ]
  },
  {
   "cell_type": "code",
   "execution_count": 22,
   "id": "3cdf7dee",
   "metadata": {},
   "outputs": [
    {
     "name": "stdout",
     "output_type": "stream",
     "text": [
      "[5.11639811]\n"
     ]
    }
   ],
   "source": [
    "# Example: predict Mood for new data\n",
    "sample = pd.DataFrame([[7, 4, 6, 20, 5, 3]], columns=features_reg)\n",
    "predicted_mood = mood_model.predict(sample)\n",
    "print(predicted_mood)"
   ]
  },
  {
   "cell_type": "code",
   "execution_count": null,
   "id": "36a321bd",
   "metadata": {},
   "outputs": [],
   "source": []
  }
 ],
 "metadata": {
  "kernelspec": {
   "display_name": "Python 3",
   "language": "python",
   "name": "python3"
  },
  "language_info": {
   "codemirror_mode": {
    "name": "ipython",
    "version": 3
   },
   "file_extension": ".py",
   "mimetype": "text/x-python",
   "name": "python",
   "nbconvert_exporter": "python",
   "pygments_lexer": "ipython3",
   "version": "3.9.5"
  }
 },
 "nbformat": 4,
 "nbformat_minor": 5
}
